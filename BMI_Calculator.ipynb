{
 "cells": [
  {
   "cell_type": "markdown",
   "metadata": {},
   "source": [
    "BMI Calculator "
   ]
  },
  {
   "cell_type": "code",
   "execution_count": 1,
   "metadata": {},
   "outputs": [
    {
     "name": "stdout",
     "output_type": "stream",
     "text": [
      "Hello James, welcome to our BMI calculation system\n"
     ]
    }
   ],
   "source": [
    "name = input (\"What is your name: \")\n",
    "print(f\"Hello {name}, welcome to our BMI calculation system\")\n"
   ]
  },
  {
   "cell_type": "code",
   "execution_count": null,
   "metadata": {},
   "outputs": [
    {
     "name": "stdout",
     "output_type": "stream",
     "text": [
      "provide us with the information below\n",
      "\n",
      "your BMI is: 30.22\n",
      "overweight\n"
     ]
    }
   ],
   "source": [
    "print(\"provide us with the information below\")\n",
    "weight = float(input(\"Enter your weight: kgs \"))\n",
    "height = float(input(\"Enter your height: metres\"))\n",
    "\n",
    "BMI =round(weight/(height*height), 2)\n",
    "\n",
    "print(\";;;;;;;;;;;;;;BMI RESULTS;;;;;;;;;;\")\n",
    "print(f\"your BMI is: {BMI}\")\n",
    "\n",
    "if BMI >25:\n",
    "    print(\"overweight\")\n",
    "elif BMI <18:\n",
    "    print(\"underweight\")\n",
    "else:\n",
    "    print(\"normal\")       "
   ]
  }
 ],
 "metadata": {
  "kernelspec": {
   "display_name": "base",
   "language": "python",
   "name": "python3"
  },
  "language_info": {
   "codemirror_mode": {
    "name": "ipython",
    "version": 3
   },
   "file_extension": ".py",
   "mimetype": "text/x-python",
   "name": "python",
   "nbconvert_exporter": "python",
   "pygments_lexer": "ipython3",
   "version": "3.11.7"
  }
 },
 "nbformat": 4,
 "nbformat_minor": 2
}
